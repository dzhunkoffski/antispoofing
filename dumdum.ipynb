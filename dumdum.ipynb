{
 "cells": [
  {
   "cell_type": "code",
   "execution_count": 2,
   "metadata": {},
   "outputs": [
    {
     "data": {
      "text/html": [
       "<div>\n",
       "<style scoped>\n",
       "    .dataframe tbody tr th:only-of-type {\n",
       "        vertical-align: middle;\n",
       "    }\n",
       "\n",
       "    .dataframe tbody tr th {\n",
       "        vertical-align: top;\n",
       "    }\n",
       "\n",
       "    .dataframe thead th {\n",
       "        text-align: right;\n",
       "    }\n",
       "</style>\n",
       "<table border=\"1\" class=\"dataframe\">\n",
       "  <thead>\n",
       "    <tr style=\"text-align: right;\">\n",
       "      <th></th>\n",
       "      <th>SpeakerID</th>\n",
       "      <th>UtteranceID</th>\n",
       "      <th>UtteranceType</th>\n",
       "      <th>SpoofAlgoId</th>\n",
       "      <th>IsSpoofed</th>\n",
       "    </tr>\n",
       "  </thead>\n",
       "  <tbody>\n",
       "    <tr>\n",
       "      <th>0</th>\n",
       "      <td>LA_0079</td>\n",
       "      <td>LA_T_1138215</td>\n",
       "      <td>-</td>\n",
       "      <td>-</td>\n",
       "      <td>bonafide</td>\n",
       "    </tr>\n",
       "    <tr>\n",
       "      <th>1</th>\n",
       "      <td>LA_0079</td>\n",
       "      <td>LA_T_1271820</td>\n",
       "      <td>-</td>\n",
       "      <td>-</td>\n",
       "      <td>bonafide</td>\n",
       "    </tr>\n",
       "    <tr>\n",
       "      <th>2</th>\n",
       "      <td>LA_0079</td>\n",
       "      <td>LA_T_1272637</td>\n",
       "      <td>-</td>\n",
       "      <td>-</td>\n",
       "      <td>bonafide</td>\n",
       "    </tr>\n",
       "    <tr>\n",
       "      <th>3</th>\n",
       "      <td>LA_0079</td>\n",
       "      <td>LA_T_1276960</td>\n",
       "      <td>-</td>\n",
       "      <td>-</td>\n",
       "      <td>bonafide</td>\n",
       "    </tr>\n",
       "    <tr>\n",
       "      <th>4</th>\n",
       "      <td>LA_0079</td>\n",
       "      <td>LA_T_1341447</td>\n",
       "      <td>-</td>\n",
       "      <td>-</td>\n",
       "      <td>bonafide</td>\n",
       "    </tr>\n",
       "    <tr>\n",
       "      <th>...</th>\n",
       "      <td>...</td>\n",
       "      <td>...</td>\n",
       "      <td>...</td>\n",
       "      <td>...</td>\n",
       "      <td>...</td>\n",
       "    </tr>\n",
       "    <tr>\n",
       "      <th>25375</th>\n",
       "      <td>LA_0098</td>\n",
       "      <td>LA_T_9717580</td>\n",
       "      <td>-</td>\n",
       "      <td>A06</td>\n",
       "      <td>spoof</td>\n",
       "    </tr>\n",
       "    <tr>\n",
       "      <th>25376</th>\n",
       "      <td>LA_0098</td>\n",
       "      <td>LA_T_9779814</td>\n",
       "      <td>-</td>\n",
       "      <td>A06</td>\n",
       "      <td>spoof</td>\n",
       "    </tr>\n",
       "    <tr>\n",
       "      <th>25377</th>\n",
       "      <td>LA_0098</td>\n",
       "      <td>LA_T_9783312</td>\n",
       "      <td>-</td>\n",
       "      <td>A06</td>\n",
       "      <td>spoof</td>\n",
       "    </tr>\n",
       "    <tr>\n",
       "      <th>25378</th>\n",
       "      <td>LA_0098</td>\n",
       "      <td>LA_T_9839348</td>\n",
       "      <td>-</td>\n",
       "      <td>A06</td>\n",
       "      <td>spoof</td>\n",
       "    </tr>\n",
       "    <tr>\n",
       "      <th>25379</th>\n",
       "      <td>LA_0098</td>\n",
       "      <td>LA_T_9982036</td>\n",
       "      <td>-</td>\n",
       "      <td>A06</td>\n",
       "      <td>spoof</td>\n",
       "    </tr>\n",
       "  </tbody>\n",
       "</table>\n",
       "<p>25380 rows × 5 columns</p>\n",
       "</div>"
      ],
      "text/plain": [
       "      SpeakerID   UtteranceID UtteranceType SpoofAlgoId IsSpoofed\n",
       "0       LA_0079  LA_T_1138215             -           -  bonafide\n",
       "1       LA_0079  LA_T_1271820             -           -  bonafide\n",
       "2       LA_0079  LA_T_1272637             -           -  bonafide\n",
       "3       LA_0079  LA_T_1276960             -           -  bonafide\n",
       "4       LA_0079  LA_T_1341447             -           -  bonafide\n",
       "...         ...           ...           ...         ...       ...\n",
       "25375   LA_0098  LA_T_9717580             -         A06     spoof\n",
       "25376   LA_0098  LA_T_9779814             -         A06     spoof\n",
       "25377   LA_0098  LA_T_9783312             -         A06     spoof\n",
       "25378   LA_0098  LA_T_9839348             -         A06     spoof\n",
       "25379   LA_0098  LA_T_9982036             -         A06     spoof\n",
       "\n",
       "[25380 rows x 5 columns]"
      ]
     },
     "execution_count": 2,
     "metadata": {},
     "output_type": "execute_result"
    }
   ],
   "source": [
    "import pandas as pd\n",
    "\n",
    "df = pd.read_csv(\n",
    "    'data/LA/ASVspoof2019_LA_cm_protocols/ASVspoof2019.LA.cm.train.trn.txt', \n",
    "    sep=' ', names=['SpeakerID', 'UtteranceID', 'UtteranceType', 'SpoofAlgoId', 'IsSpoofed'], header=None\n",
    ")\n",
    "df"
   ]
  },
  {
   "cell_type": "code",
   "execution_count": 8,
   "metadata": {},
   "outputs": [
    {
     "data": {
      "text/plain": [
       "IsSpoofed\n",
       "spoof       22800\n",
       "bonafide     2580\n",
       "Name: count, dtype: int64"
      ]
     },
     "execution_count": 8,
     "metadata": {},
     "output_type": "execute_result"
    }
   ],
   "source": [
    "df['IsSpoofed'].value_counts()"
   ]
  },
  {
   "cell_type": "code",
   "execution_count": 3,
   "metadata": {},
   "outputs": [
    {
     "data": {
      "text/html": [
       "<div>\n",
       "<style scoped>\n",
       "    .dataframe tbody tr th:only-of-type {\n",
       "        vertical-align: middle;\n",
       "    }\n",
       "\n",
       "    .dataframe tbody tr th {\n",
       "        vertical-align: top;\n",
       "    }\n",
       "\n",
       "    .dataframe thead th {\n",
       "        text-align: right;\n",
       "    }\n",
       "</style>\n",
       "<table border=\"1\" class=\"dataframe\">\n",
       "  <thead>\n",
       "    <tr style=\"text-align: right;\">\n",
       "      <th></th>\n",
       "      <th>SpeakerID</th>\n",
       "      <th>UtteranceID</th>\n",
       "      <th>UtteranceType</th>\n",
       "      <th>SpoofAlgoId</th>\n",
       "      <th>IsSpoofed</th>\n",
       "    </tr>\n",
       "  </thead>\n",
       "  <tbody>\n",
       "    <tr>\n",
       "      <th>0</th>\n",
       "      <td>LA_0039</td>\n",
       "      <td>LA_E_2834763</td>\n",
       "      <td>-</td>\n",
       "      <td>A11</td>\n",
       "      <td>spoof</td>\n",
       "    </tr>\n",
       "    <tr>\n",
       "      <th>1</th>\n",
       "      <td>LA_0014</td>\n",
       "      <td>LA_E_8877452</td>\n",
       "      <td>-</td>\n",
       "      <td>A14</td>\n",
       "      <td>spoof</td>\n",
       "    </tr>\n",
       "    <tr>\n",
       "      <th>2</th>\n",
       "      <td>LA_0040</td>\n",
       "      <td>LA_E_6828287</td>\n",
       "      <td>-</td>\n",
       "      <td>A16</td>\n",
       "      <td>spoof</td>\n",
       "    </tr>\n",
       "    <tr>\n",
       "      <th>3</th>\n",
       "      <td>LA_0022</td>\n",
       "      <td>LA_E_6977360</td>\n",
       "      <td>-</td>\n",
       "      <td>A09</td>\n",
       "      <td>spoof</td>\n",
       "    </tr>\n",
       "    <tr>\n",
       "      <th>4</th>\n",
       "      <td>LA_0031</td>\n",
       "      <td>LA_E_5932896</td>\n",
       "      <td>-</td>\n",
       "      <td>A13</td>\n",
       "      <td>spoof</td>\n",
       "    </tr>\n",
       "    <tr>\n",
       "      <th>...</th>\n",
       "      <td>...</td>\n",
       "      <td>...</td>\n",
       "      <td>...</td>\n",
       "      <td>...</td>\n",
       "      <td>...</td>\n",
       "    </tr>\n",
       "    <tr>\n",
       "      <th>71232</th>\n",
       "      <td>LA_0004</td>\n",
       "      <td>LA_E_1665632</td>\n",
       "      <td>-</td>\n",
       "      <td>-</td>\n",
       "      <td>bonafide</td>\n",
       "    </tr>\n",
       "    <tr>\n",
       "      <th>71233</th>\n",
       "      <td>LA_0038</td>\n",
       "      <td>LA_E_5085671</td>\n",
       "      <td>-</td>\n",
       "      <td>A09</td>\n",
       "      <td>spoof</td>\n",
       "    </tr>\n",
       "    <tr>\n",
       "      <th>71234</th>\n",
       "      <td>LA_0012</td>\n",
       "      <td>LA_E_4926022</td>\n",
       "      <td>-</td>\n",
       "      <td>A16</td>\n",
       "      <td>spoof</td>\n",
       "    </tr>\n",
       "    <tr>\n",
       "      <th>71235</th>\n",
       "      <td>LA_0052</td>\n",
       "      <td>LA_E_2894498</td>\n",
       "      <td>-</td>\n",
       "      <td>-</td>\n",
       "      <td>bonafide</td>\n",
       "    </tr>\n",
       "    <tr>\n",
       "      <th>71236</th>\n",
       "      <td>LA_0009</td>\n",
       "      <td>LA_E_4689563</td>\n",
       "      <td>-</td>\n",
       "      <td>A19</td>\n",
       "      <td>spoof</td>\n",
       "    </tr>\n",
       "  </tbody>\n",
       "</table>\n",
       "<p>71237 rows × 5 columns</p>\n",
       "</div>"
      ],
      "text/plain": [
       "      SpeakerID   UtteranceID UtteranceType SpoofAlgoId IsSpoofed\n",
       "0       LA_0039  LA_E_2834763             -         A11     spoof\n",
       "1       LA_0014  LA_E_8877452             -         A14     spoof\n",
       "2       LA_0040  LA_E_6828287             -         A16     spoof\n",
       "3       LA_0022  LA_E_6977360             -         A09     spoof\n",
       "4       LA_0031  LA_E_5932896             -         A13     spoof\n",
       "...         ...           ...           ...         ...       ...\n",
       "71232   LA_0004  LA_E_1665632             -           -  bonafide\n",
       "71233   LA_0038  LA_E_5085671             -         A09     spoof\n",
       "71234   LA_0012  LA_E_4926022             -         A16     spoof\n",
       "71235   LA_0052  LA_E_2894498             -           -  bonafide\n",
       "71236   LA_0009  LA_E_4689563             -         A19     spoof\n",
       "\n",
       "[71237 rows x 5 columns]"
      ]
     },
     "execution_count": 3,
     "metadata": {},
     "output_type": "execute_result"
    }
   ],
   "source": [
    "import pandas as pd\n",
    "\n",
    "df = pd.read_csv(\n",
    "    'data/LA/ASVspoof2019_LA_cm_protocols/ASVspoof2019.LA.cm.eval.trl.txt', \n",
    "    sep=' ', names=['SpeakerID', 'UtteranceID', 'UtteranceType', 'SpoofAlgoId', 'IsSpoofed'], header=None\n",
    ")\n",
    "df"
   ]
  },
  {
   "cell_type": "code",
   "execution_count": 6,
   "metadata": {},
   "outputs": [
    {
     "data": {
      "text/plain": [
       "'LA_E_5849185'"
      ]
     },
     "execution_count": 6,
     "metadata": {},
     "output_type": "execute_result"
    }
   ],
   "source": [
    "df.iloc[5]['UtteranceID']"
   ]
  },
  {
   "cell_type": "code",
   "execution_count": 4,
   "metadata": {},
   "outputs": [
    {
     "data": {
      "text/plain": [
       "IsSpoofed\n",
       "spoof       63882\n",
       "bonafide     7355\n",
       "Name: count, dtype: int64"
      ]
     },
     "execution_count": 4,
     "metadata": {},
     "output_type": "execute_result"
    }
   ],
   "source": [
    "df['IsSpoofed'].value_counts()"
   ]
  },
  {
   "cell_type": "code",
   "execution_count": 1,
   "metadata": {},
   "outputs": [],
   "source": [
    "from src.datasets.lcnn_dataset import LCNNDataset\n",
    "\n",
    "data = LCNNDataset(\n",
    "    flac_path='/home/dzhunk/University/dl-audio/antispoofing/data/LA/ASVspoof2019_LA_train/flac',\n",
    "    labels_path='data/LA/ASVspoof2019_LA_cm_protocols/ASVspoof2019.LA.cm.train.trn.txt'\n",
    ")"
   ]
  },
  {
   "cell_type": "code",
   "execution_count": 2,
   "metadata": {},
   "outputs": [],
   "source": [
    "a, b = data[0]"
   ]
  },
  {
   "cell_type": "code",
   "execution_count": 3,
   "metadata": {},
   "outputs": [],
   "source": [
    "a = a.unsqueeze(0)"
   ]
  },
  {
   "cell_type": "code",
   "execution_count": 4,
   "metadata": {},
   "outputs": [
    {
     "data": {
      "text/plain": [
       "torch.Size([1, 1, 257, 750])"
      ]
     },
     "execution_count": 4,
     "metadata": {},
     "output_type": "execute_result"
    }
   ],
   "source": [
    "a.size()"
   ]
  },
  {
   "cell_type": "code",
   "execution_count": 5,
   "metadata": {},
   "outputs": [],
   "source": [
    "from src.model.lcnn.lcnn_module import LighCNN\n",
    "\n",
    "lcnn = LighCNN()"
   ]
  },
  {
   "cell_type": "code",
   "execution_count": 6,
   "metadata": {},
   "outputs": [
    {
     "name": "stdout",
     "output_type": "stream",
     "text": [
      "torch.Size([1, 2])\n"
     ]
    }
   ],
   "source": [
    "lcnn.eval()\n",
    "o = lcnn(a)\n",
    "print(o.size())"
   ]
  },
  {
   "cell_type": "code",
   "execution_count": null,
   "metadata": {},
   "outputs": [],
   "source": []
  }
 ],
 "metadata": {
  "kernelspec": {
   "display_name": ".venv",
   "language": "python",
   "name": "python3"
  },
  "language_info": {
   "codemirror_mode": {
    "name": "ipython",
    "version": 3
   },
   "file_extension": ".py",
   "mimetype": "text/x-python",
   "name": "python",
   "nbconvert_exporter": "python",
   "pygments_lexer": "ipython3",
   "version": "3.8.18"
  }
 },
 "nbformat": 4,
 "nbformat_minor": 2
}
